{
 "cells": [
  {
   "cell_type": "code",
   "execution_count": 11,
   "metadata": {},
   "outputs": [],
   "source": [
    "import json\n",
    "import psycopg2\n",
    "import pandas as pd\n",
    "import matplotlib.pyplot as plt\n",
    "from sqlalchemy import create_engine\n",
    "from sqlalchemy import URL\n",
    "import numpy as np \n",
    "import plotly.graph_objects as go\n",
    "from pathlib import Path\n",
    "import os"
   ]
  },
  {
   "cell_type": "markdown",
   "metadata": {},
   "source": [
    "# функция для прогона по всем ДФ"
   ]
  },
  {
   "cell_type": "code",
   "execution_count": 12,
   "metadata": {},
   "outputs": [],
   "source": [
    "def calculete_stats_and_map(name):\n",
    "    data = pd.read_csv(f\"{os.getcwd()}\\\\Данные\\\\Исходные\\\\Переменные\\\\{name}\", encoding = \"windows-1251\")\n",
    "    data_for_date = data[[\"date_loc\", \"site_code\", \"site_name\"]]\n",
    "\n",
    "    max_data_for_date = data_for_date.groupby([\"site_code\", \"site_name\"]).max()\n",
    "    max_data_for_date.rename(columns={\"date_loc\": 'date_loc_max'}, inplace=True)\n",
    "    min_data_for_date = data_for_date.groupby([\"site_code\", \"site_name\"]).min()\n",
    "    min_data_for_date.rename(columns={\"date_loc\": 'date_loc_min'}, inplace=True)\n",
    "    \n",
    "    date_stat = pd.concat([min_data_for_date, max_data_for_date], axis=1).reset_index()\n",
    "    \n",
    "    data_for_stats = data[[\"value\", \"site_code\", 'site_name',]]\n",
    "\n",
    "    data_for_loc = data[[\"site_code\", \"lon\", \"lat\"]]\n",
    "    data_for_loc = data_for_loc.groupby([\"site_code\"]).mean()\n",
    "    # среднее\n",
    "    mean_by_site = data_for_stats.groupby([\"site_code\", \"site_name\"]).mean()\n",
    "    mean_by_site.rename(columns={\"value\": 'value_mean'}, inplace=True)\n",
    "    # максимальное\n",
    "    max_by_site = data_for_stats.groupby([\"site_code\", \"site_name\"]).max()\n",
    "    max_by_site.rename(columns={\"value\": 'value_max'}, inplace=True)\n",
    "    # минимальное\n",
    "    min_by_site = data_for_stats.groupby([\"site_code\", \"site_name\"]).min()\n",
    "    min_by_site.rename(columns={\"value\": 'value_min'}, inplace=True)\n",
    "    # количество \n",
    "    amount_by_site = data_for_stats.groupby([\"site_code\", \"site_name\"]).count()\n",
    "    amount_by_site.rename(columns={\"value\": 'value_amount'}, inplace=True)\n",
    "    \n",
    "    # Мерджим все дата фреймы для общей таблицы\n",
    "    value_stat = pd.concat([mean_by_site, min_by_site, max_by_site, amount_by_site], axis=1).reset_index()\n",
    "    stat = pd.concat([value_stat.set_index([\"site_code\", \"site_name\"]), date_stat.set_index([\"site_code\", \"site_name\"])], axis=1).reset_index()\n",
    "\n",
    "    amount_by_site = amount_by_site.reset_index().set_index(\"site_code\")\n",
    "    for_mapping = pd.concat([amount_by_site, data_for_loc], axis=1).reset_index()\n",
    "\n",
    "    for_mapping['name_map'] = for_mapping['site_name'].astype(str) + ' (' + for_mapping['site_code'].astype(str) + ') кол-во измерений:' + for_mapping['value_amount'].astype(str)\n",
    "\n",
    "    for_mapping.to_csv(f\"map_{name}\", sep=\";\", encoding=\"cp1251\")\n",
    "    stat.to_csv(f\"full_stat_{name}\", sep=\";\", encoding=\"cp1251\")\n",
    "    "
   ]
  },
  {
   "cell_type": "code",
   "execution_count": 13,
   "metadata": {},
   "outputs": [],
   "source": [
    "\n",
    "directory = f\"{os.getcwd()}\\\\Данные\\\\Исходные\\\\Переменные\\\\\"\n",
    "# Создаем пустой список\n",
    "files = []\n",
    "# Добавляем файлы в список\n",
    "files += os.listdir(directory)\n",
    "# Выводим список файлов"
   ]
  },
  {
   "cell_type": "code",
   "execution_count": 14,
   "metadata": {},
   "outputs": [],
   "source": [
    "for name in files:\n",
    "    calculete_stats_and_map(name = name)"
   ]
  }
 ],
 "metadata": {
  "kernelspec": {
   "display_name": "Python 3",
   "language": "python",
   "name": "python3"
  },
  "language_info": {
   "codemirror_mode": {
    "name": "ipython",
    "version": 3
   },
   "file_extension": ".py",
   "mimetype": "text/x-python",
   "name": "python",
   "nbconvert_exporter": "python",
   "pygments_lexer": "ipython3",
   "version": "3.10.0"
  }
 },
 "nbformat": 4,
 "nbformat_minor": 2
}
