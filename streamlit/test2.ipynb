{
 "cells": [
  {
   "cell_type": "code",
   "execution_count": 32,
   "metadata": {},
   "outputs": [],
   "source": [
    "import json\n",
    "import psycopg2\n",
    "import pandas as pd\n",
    "import matplotlib.pyplot as plt\n",
    "from sqlalchemy import create_engine\n",
    "from sqlalchemy import URL\n",
    "import numpy as np \n",
    "import plotly.graph_objects as go"
   ]
  },
  {
   "cell_type": "code",
   "execution_count": 33,
   "metadata": {},
   "outputs": [],
   "source": [
    "url_object = URL.create(\n",
    "    \"postgresql+psycopg2\",\n",
    "    username=\"postgres\",\n",
    "    password=\"qq\",  # plain (unescaped) text\n",
    "    host=\"192.168.5.219\",\n",
    "    database=\"amur22_non_iwp\",\n",
    ")"
   ]
  },
  {
   "cell_type": "code",
   "execution_count": 34,
   "metadata": {},
   "outputs": [],
   "source": [
    "engine = create_engine(url_object)"
   ]
  },
  {
   "cell_type": "code",
   "execution_count": 35,
   "metadata": {},
   "outputs": [
    {
     "ename": "AttributeError",
     "evalue": "'OptionEngine' object has no attribute 'execute'",
     "output_type": "error",
     "traceback": [
      "\u001b[0;31m---------------------------------------------------------------------------\u001b[0m",
      "\u001b[0;31mAttributeError\u001b[0m                            Traceback (most recent call last)",
      "\u001b[1;32m/Users/antonmirosnicenko/Проекты/geogr_api/streamlit/test2.ipynb Ячейка 4\u001b[0m in \u001b[0;36m1\n\u001b[0;32m----> <a href='vscode-notebook-cell:/Users/antonmirosnicenko/%D0%9F%D1%80%D0%BE%D0%B5%D0%BA%D1%82%D1%8B/geogr_api/streamlit/test2.ipynb#X22sZmlsZQ%3D%3D?line=0'>1</a>\u001b[0m data_table \u001b[39m=\u001b[39m pd\u001b[39m.\u001b[39;49mread_sql(\u001b[39m\"\"\"\u001b[39;49m\n\u001b[1;32m      <a href='vscode-notebook-cell:/Users/antonmirosnicenko/%D0%9F%D1%80%D0%BE%D0%B5%D0%BA%D1%82%D1%8B/geogr_api/streamlit/test2.ipynb#X22sZmlsZQ%3D%3D?line=1'>2</a>\u001b[0m \u001b[39m                         select date_loc, value, catalog_id, site_id, name_rus from data.data_value as value left join \u001b[39;49m\n\u001b[1;32m      <a href='vscode-notebook-cell:/Users/antonmirosnicenko/%D0%9F%D1%80%D0%BE%D0%B5%D0%BA%D1%82%D1%8B/geogr_api/streamlit/test2.ipynb#X22sZmlsZQ%3D%3D?line=2'>3</a>\u001b[0m \u001b[39m                         (select * from data.\u001b[39;49m\u001b[39m\"\u001b[39;49m\u001b[39mcatalog\u001b[39;49m\u001b[39m\"\u001b[39;49m\u001b[39m as c left join \u001b[39;49m\n\u001b[1;32m      <a href='vscode-notebook-cell:/Users/antonmirosnicenko/%D0%9F%D1%80%D0%BE%D0%B5%D0%BA%D1%82%D1%8B/geogr_api/streamlit/test2.ipynb#X22sZmlsZQ%3D%3D?line=3'>4</a>\u001b[0m \u001b[39m                        (SELECT distinct \u001b[39;49m\u001b[39m\"\u001b[39;49m\u001b[39mvariable\u001b[39;49m\u001b[39m\"\u001b[39;49m\u001b[39m.\u001b[39;49m\u001b[39m\"\u001b[39;49m\u001b[39mid\u001b[39;49m\u001b[39m\"\u001b[39;49m\u001b[39m as new_id, name_rus FROM meta.variable) as var on c.variable_id  = var.new_id) as foo \u001b[39;49m\n\u001b[1;32m      <a href='vscode-notebook-cell:/Users/antonmirosnicenko/%D0%9F%D1%80%D0%BE%D0%B5%D0%BA%D1%82%D1%8B/geogr_api/streamlit/test2.ipynb#X22sZmlsZQ%3D%3D?line=4'>5</a>\u001b[0m \u001b[39m                         on value.catalog_id =foo.id\u001b[39;49m\n\u001b[1;32m      <a href='vscode-notebook-cell:/Users/antonmirosnicenko/%D0%9F%D1%80%D0%BE%D0%B5%D0%BA%D1%82%D1%8B/geogr_api/streamlit/test2.ipynb#X22sZmlsZQ%3D%3D?line=5'>6</a>\u001b[0m \u001b[39m                         \u001b[39;49m\u001b[39m\"\"\"\u001b[39;49m\n\u001b[1;32m      <a href='vscode-notebook-cell:/Users/antonmirosnicenko/%D0%9F%D1%80%D0%BE%D0%B5%D0%BA%D1%82%D1%8B/geogr_api/streamlit/test2.ipynb#X22sZmlsZQ%3D%3D?line=6'>7</a>\u001b[0m                          , engine)\n",
      "File \u001b[0;32m/Library/Frameworks/Python.framework/Versions/3.10/lib/python3.10/site-packages/pandas/io/sql.py:591\u001b[0m, in \u001b[0;36mread_sql\u001b[0;34m(sql, con, index_col, coerce_float, params, parse_dates, columns, chunksize)\u001b[0m\n\u001b[1;32m    582\u001b[0m     \u001b[39mreturn\u001b[39;00m pandas_sql\u001b[39m.\u001b[39mread_table(\n\u001b[1;32m    583\u001b[0m         sql,\n\u001b[1;32m    584\u001b[0m         index_col\u001b[39m=\u001b[39mindex_col,\n\u001b[0;32m   (...)\u001b[0m\n\u001b[1;32m    588\u001b[0m         chunksize\u001b[39m=\u001b[39mchunksize,\n\u001b[1;32m    589\u001b[0m     )\n\u001b[1;32m    590\u001b[0m \u001b[39melse\u001b[39;00m:\n\u001b[0;32m--> 591\u001b[0m     \u001b[39mreturn\u001b[39;00m pandas_sql\u001b[39m.\u001b[39;49mread_query(\n\u001b[1;32m    592\u001b[0m         sql,\n\u001b[1;32m    593\u001b[0m         index_col\u001b[39m=\u001b[39;49mindex_col,\n\u001b[1;32m    594\u001b[0m         params\u001b[39m=\u001b[39;49mparams,\n\u001b[1;32m    595\u001b[0m         coerce_float\u001b[39m=\u001b[39;49mcoerce_float,\n\u001b[1;32m    596\u001b[0m         parse_dates\u001b[39m=\u001b[39;49mparse_dates,\n\u001b[1;32m    597\u001b[0m         chunksize\u001b[39m=\u001b[39;49mchunksize,\n\u001b[1;32m    598\u001b[0m     )\n",
      "File \u001b[0;32m/Library/Frameworks/Python.framework/Versions/3.10/lib/python3.10/site-packages/pandas/io/sql.py:1561\u001b[0m, in \u001b[0;36mSQLDatabase.read_query\u001b[0;34m(self, sql, index_col, coerce_float, parse_dates, params, chunksize, dtype)\u001b[0m\n\u001b[1;32m   1513\u001b[0m \u001b[39m\"\"\"\u001b[39;00m\n\u001b[1;32m   1514\u001b[0m \u001b[39mRead SQL query into a DataFrame.\u001b[39;00m\n\u001b[1;32m   1515\u001b[0m \n\u001b[0;32m   (...)\u001b[0m\n\u001b[1;32m   1557\u001b[0m \n\u001b[1;32m   1558\u001b[0m \u001b[39m\"\"\"\u001b[39;00m\n\u001b[1;32m   1559\u001b[0m args \u001b[39m=\u001b[39m _convert_params(sql, params)\n\u001b[0;32m-> 1561\u001b[0m result \u001b[39m=\u001b[39m \u001b[39mself\u001b[39;49m\u001b[39m.\u001b[39;49mexecute(\u001b[39m*\u001b[39;49margs)\n\u001b[1;32m   1562\u001b[0m columns \u001b[39m=\u001b[39m result\u001b[39m.\u001b[39mkeys()\n\u001b[1;32m   1564\u001b[0m \u001b[39mif\u001b[39;00m chunksize \u001b[39mis\u001b[39;00m \u001b[39mnot\u001b[39;00m \u001b[39mNone\u001b[39;00m:\n",
      "File \u001b[0;32m/Library/Frameworks/Python.framework/Versions/3.10/lib/python3.10/site-packages/pandas/io/sql.py:1406\u001b[0m, in \u001b[0;36mSQLDatabase.execute\u001b[0;34m(self, *args, **kwargs)\u001b[0m\n\u001b[1;32m   1404\u001b[0m \u001b[39mdef\u001b[39;00m \u001b[39mexecute\u001b[39m(\u001b[39mself\u001b[39m, \u001b[39m*\u001b[39margs, \u001b[39m*\u001b[39m\u001b[39m*\u001b[39mkwargs):\n\u001b[1;32m   1405\u001b[0m     \u001b[39m\"\"\"Simple passthrough to SQLAlchemy connectable\"\"\"\u001b[39;00m\n\u001b[0;32m-> 1406\u001b[0m     \u001b[39mreturn\u001b[39;00m \u001b[39mself\u001b[39;49m\u001b[39m.\u001b[39;49mconnectable\u001b[39m.\u001b[39;49mexecution_options()\u001b[39m.\u001b[39;49mexecute(\u001b[39m*\u001b[39margs, \u001b[39m*\u001b[39m\u001b[39m*\u001b[39mkwargs)\n",
      "\u001b[0;31mAttributeError\u001b[0m: 'OptionEngine' object has no attribute 'execute'"
     ]
    }
   ],
   "source": [
    "data_table = pd.read_sql(\"\"\"\n",
    "                         select date_loc, value, catalog_id, site_id, name_rus from data.data_value as value left join \n",
    "                         (select * from data.\"catalog\" as c left join \n",
    "                        (SELECT distinct \"variable\".\"id\" as new_id, name_rus FROM meta.variable) as var on c.variable_id  = var.new_id) as foo \n",
    "                         on value.catalog_id =foo.id\n",
    "                         \"\"\"\n",
    "                         , engine)"
   ]
  }
 ],
 "metadata": {
  "kernelspec": {
   "display_name": "Python 3",
   "language": "python",
   "name": "python3"
  },
  "language_info": {
   "codemirror_mode": {
    "name": "ipython",
    "version": 3
   },
   "file_extension": ".py",
   "mimetype": "text/x-python",
   "name": "python",
   "nbconvert_exporter": "python",
   "pygments_lexer": "ipython3",
   "version": "3.10.6"
  }
 },
 "nbformat": 4,
 "nbformat_minor": 2
}
